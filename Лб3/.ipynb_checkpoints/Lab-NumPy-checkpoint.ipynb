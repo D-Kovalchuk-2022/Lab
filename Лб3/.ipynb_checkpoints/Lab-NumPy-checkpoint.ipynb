{
 "cells": [
  {
   "cell_type": "markdown",
   "metadata": {},
   "source": [
    "# Лабораторна робота \"Операції над масивами NumPy\"\n",
    "\n",
    "__Метою__ лабораторної роботи є набуття практичних навичок та закріплення теоретичних знань по обробці великих однорідних наборів даних які розташовані у вигляді масивів бібліотеки __NumPy__.\n",
    "\n",
    "Виконати послідовно завдання в секціях, попередню засвоївши наведені приклади\n",
    "В завданнях продовжити написання коду замість `...`. \n",
    "\n",
    "__Імена змінних в завданнях змінювати не можна!__"
   ]
  },
  {
   "cell_type": "markdown",
   "metadata": {
    "heading_collapsed": true
   },
   "source": [
    "### Предвстановлення"
   ]
  },
  {
   "cell_type": "code",
   "execution_count": 1,
   "metadata": {
    "hidden": true
   },
   "outputs": [],
   "source": [
    "# Імпортувати бібліотеку numpy з аліасом np\n",
    "import numpy as np"
   ]
  },
  {
   "cell_type": "code",
   "execution_count": 2,
   "metadata": {
    "code_folding": [],
    "hidden": true
   },
   "outputs": [
    {
     "data": {
      "text/html": [
       "<div>\n",
       "<style scoped>\n",
       "    .dataframe tbody tr th:only-of-type {\n",
       "        vertical-align: middle;\n",
       "    }\n",
       "\n",
       "    .dataframe tbody tr th {\n",
       "        vertical-align: top;\n",
       "    }\n",
       "\n",
       "    .dataframe thead th {\n",
       "        text-align: right;\n",
       "    }\n",
       "</style>\n",
       "<table border=\"1\" class=\"dataframe\">\n",
       "  <thead>\n",
       "    <tr style=\"text-align: right;\">\n",
       "      <th></th>\n",
       "      <th>Type</th>\n",
       "      <th>Type Code</th>\n",
       "    </tr>\n",
       "  </thead>\n",
       "  <tbody>\n",
       "    <tr>\n",
       "      <th>0</th>\n",
       "      <td>int8</td>\n",
       "      <td>i1</td>\n",
       "    </tr>\n",
       "    <tr>\n",
       "      <th>1</th>\n",
       "      <td>uint8</td>\n",
       "      <td>u1</td>\n",
       "    </tr>\n",
       "    <tr>\n",
       "      <th>2</th>\n",
       "      <td>int16</td>\n",
       "      <td>i2</td>\n",
       "    </tr>\n",
       "    <tr>\n",
       "      <th>3</th>\n",
       "      <td>uint16</td>\n",
       "      <td>u2</td>\n",
       "    </tr>\n",
       "    <tr>\n",
       "      <th>4</th>\n",
       "      <td>int32</td>\n",
       "      <td>i4</td>\n",
       "    </tr>\n",
       "    <tr>\n",
       "      <th>5</th>\n",
       "      <td>uint32</td>\n",
       "      <td>u4</td>\n",
       "    </tr>\n",
       "    <tr>\n",
       "      <th>6</th>\n",
       "      <td>int64</td>\n",
       "      <td>i8</td>\n",
       "    </tr>\n",
       "    <tr>\n",
       "      <th>7</th>\n",
       "      <td>uint64</td>\n",
       "      <td>u8</td>\n",
       "    </tr>\n",
       "    <tr>\n",
       "      <th>8</th>\n",
       "      <td>float16</td>\n",
       "      <td>f2</td>\n",
       "    </tr>\n",
       "    <tr>\n",
       "      <th>9</th>\n",
       "      <td>float32</td>\n",
       "      <td>f4 or f</td>\n",
       "    </tr>\n",
       "    <tr>\n",
       "      <th>10</th>\n",
       "      <td>float64</td>\n",
       "      <td>f8 or d</td>\n",
       "    </tr>\n",
       "    <tr>\n",
       "      <th>11</th>\n",
       "      <td>float128</td>\n",
       "      <td>f16 or g</td>\n",
       "    </tr>\n",
       "    <tr>\n",
       "      <th>12</th>\n",
       "      <td>complex64</td>\n",
       "      <td>c8</td>\n",
       "    </tr>\n",
       "    <tr>\n",
       "      <th>13</th>\n",
       "      <td>complex128</td>\n",
       "      <td>c16</td>\n",
       "    </tr>\n",
       "    <tr>\n",
       "      <th>14</th>\n",
       "      <td>bool</td>\n",
       "      <td></td>\n",
       "    </tr>\n",
       "    <tr>\n",
       "      <th>15</th>\n",
       "      <td>object</td>\n",
       "      <td>O</td>\n",
       "    </tr>\n",
       "    <tr>\n",
       "      <th>16</th>\n",
       "      <td>string_</td>\n",
       "      <td>S</td>\n",
       "    </tr>\n",
       "    <tr>\n",
       "      <th>17</th>\n",
       "      <td>unicode_</td>\n",
       "      <td>U</td>\n",
       "    </tr>\n",
       "  </tbody>\n",
       "</table>\n",
       "</div>"
      ],
      "text/plain": [
       "          Type Type Code\n",
       "0         int8        i1\n",
       "1        uint8        u1\n",
       "2        int16        i2\n",
       "3       uint16        u2\n",
       "4        int32        i4\n",
       "5       uint32        u4\n",
       "6        int64        i8\n",
       "7       uint64        u8\n",
       "8      float16        f2\n",
       "9      float32   f4 or f\n",
       "10     float64   f8 or d\n",
       "11    float128  f16 or g\n",
       "12   complex64        c8\n",
       "13  complex128       c16\n",
       "14        bool          \n",
       "15      object         O\n",
       "16     string_         S\n",
       "17    unicode_         U"
      ]
     },
     "execution_count": 2,
     "metadata": {},
     "output_type": "execute_result"
    }
   ],
   "source": [
    "# Вивід таблиці відповідності кодів типів даних в NumPy\n",
    "import pandas as pd\n",
    "dtypes = pd.DataFrame(\n",
    "    {\n",
    "        'Type': ['int8', 'uint8', 'int16', 'uint16', 'int32', 'uint32', 'int64', 'uint64', 'float16', 'float32', 'float64', 'float128', 'complex64', 'complex128', 'bool', 'object', 'string_', 'unicode_'],\n",
    "        'Type Code': ['i1', 'u1', 'i2', 'u2', 'i4', 'u4', 'i8', 'u8', 'f2', 'f4 or f', 'f8 or d', 'f16 or g', 'c8', 'c16', '', 'O', 'S', 'U']\n",
    "    }\n",
    ")\n",
    "\n",
    "dtypes"
   ]
  },
  {
   "cell_type": "markdown",
   "metadata": {
    "heading_collapsed": true
   },
   "source": [
    "## 1. Створення та інспектування _np-массивів_"
   ]
  },
  {
   "cell_type": "markdown",
   "metadata": {
    "hidden": true
   },
   "source": [
    "### ПРИКЛАДИ"
   ]
  },
  {
   "cell_type": "code",
   "execution_count": 3,
   "metadata": {
    "hidden": true
   },
   "outputs": [],
   "source": [
    "# Створити 1-вимірний масив з 5 цілочисельних елементів \n",
    "arr = np.array([23, 42, 13, 7, 0])"
   ]
  },
  {
   "cell_type": "code",
   "execution_count": 4,
   "metadata": {
    "hidden": true
   },
   "outputs": [
    {
     "name": "stdout",
     "output_type": "stream",
     "text": [
      "class:  ndarray\n",
      "shape:  (5,)\n",
      "strides:  (4,)\n",
      "itemsize:  4\n",
      "aligned:  True\n",
      "contiguous:  True\n",
      "fortran:  True\n",
      "data pointer: 0x23e6db08930\n",
      "byteorder:  little\n",
      "byteswap:  False\n",
      "type: int32\n"
     ]
    }
   ],
   "source": [
    "# Інспектування массива\n",
    "np.info(arr)"
   ]
  },
  {
   "cell_type": "code",
   "execution_count": 5,
   "metadata": {
    "hidden": true
   },
   "outputs": [
    {
     "name": "stdout",
     "output_type": "stream",
     "text": [
      "[[1 2 3]\n",
      " [4 5 6]]\n"
     ]
    }
   ],
   "source": [
    "# створити 2-мірний масив з цілим типом даних у 2-х байтовому форматі\n",
    "arr = np.array([[1,2,3], [4,5,6]], dtype='i2')\n",
    "print(arr)"
   ]
  },
  {
   "cell_type": "code",
   "execution_count": 6,
   "metadata": {
    "hidden": true
   },
   "outputs": [
    {
     "name": "stdout",
     "output_type": "stream",
     "text": [
      "[ 0  2  4  6  8 10 12 14 16 18]\n"
     ]
    }
   ],
   "source": [
    "# створити масив із  значень в інтервалі 0 - 20 з кроком 2\n",
    "# np.arange(start, stop, step)\n",
    "arr = np.arange(0, 20, 2)  \n",
    "print(arr)"
   ]
  },
  {
   "cell_type": "code",
   "execution_count": 7,
   "metadata": {
    "hidden": true
   },
   "outputs": [
    {
     "name": "stdout",
     "output_type": "stream",
     "text": [
      "[ 0.          0.52631579  1.05263158  1.57894737  2.10526316  2.63157895\n",
      "  3.15789474  3.68421053  4.21052632  4.73684211  5.26315789  5.78947368\n",
      "  6.31578947  6.84210526  7.36842105  7.89473684  8.42105263  8.94736842\n",
      "  9.47368421 10.        ]\n"
     ]
    }
   ],
   "source": [
    "# створити масив із 20 рівномірно розміщених значень в інтервалі 0 - 10 \n",
    "# np.linspace(start, stop, num_of_elements) \n",
    "arr = np.linspace(0, 10, 20)\n",
    "print(arr)"
   ]
  },
  {
   "cell_type": "code",
   "execution_count": 8,
   "metadata": {
    "hidden": true
   },
   "outputs": [
    {
     "name": "stdout",
     "output_type": "stream",
     "text": [
      "[[0.6707764  0.21829835 0.22976652]\n",
      " [0.16897297 0.14857843 0.28016849]\n",
      " [0.12086824 0.27720593 0.48951363]]\n"
     ]
    }
   ],
   "source": [
    "# створити масив 3х3 випадкових значень \n",
    "arr = np.random.rand(3, 3)\n",
    "print(arr)"
   ]
  },
  {
   "cell_type": "code",
   "execution_count": 9,
   "metadata": {
    "hidden": true
   },
   "outputs": [
    {
     "name": "stdout",
     "output_type": "stream",
     "text": [
      "[[0 0 0]\n",
      " [0 0 0]]\n",
      "[[1. 1. 1.]\n",
      " [1. 1. 1.]]\n",
      "[[123 123 123]\n",
      " [123 123 123]]\n"
     ]
    }
   ],
   "source": [
    "# створення нульвих, одиничних та заповнених масивів\n",
    "zeros = np.zeros((2,3), dtype='i4')\n",
    "print(zeros)\n",
    "ones = np.ones((2,3))\n",
    "print(ones)\n",
    "filled = np.full((2,3), 123)\n",
    "print(filled)"
   ]
  },
  {
   "cell_type": "code",
   "execution_count": 10,
   "metadata": {
    "hidden": true,
    "scrolled": true
   },
   "outputs": [
    {
     "name": "stdout",
     "output_type": "stream",
     "text": [
      "[[0.6707764  0.21829835 0.22976652]\n",
      " [0.16897297 0.14857843 0.28016849]\n",
      " [0.12086824 0.27720593 0.48951363]]\n",
      "...\n",
      "float64\n",
      "(3, 3)\n",
      "3\n",
      "2\n",
      "9\n",
      "8\n",
      "72\n"
     ]
    }
   ],
   "source": [
    "print(arr, end=\"\\n...\\n\")\n",
    "# інспектування типу массиву `dtype`\n",
    "print(arr.dtype)\n",
    "# інспектування розмірності массиву `shape`\n",
    "print(arr.shape)\n",
    "# інспектування довжини масиву `len`\n",
    "print(len(arr))\n",
    "# інспектування кількості вимірів масиву `ndim`\n",
    "print(arr.ndim)\n",
    "# інспектування кількості елементів в масиві `size`\n",
    "print(arr.size)\n",
    "# інспектування коількості байтів на елемент `itemsize`\n",
    "print(arr.itemsize)\n",
    "# інспектування кількості пам'яти під масив `nbytes`\n",
    "print(arr.nbytes)"
   ]
  },
  {
   "cell_type": "code",
   "execution_count": 11,
   "metadata": {
    "hidden": true
   },
   "outputs": [
    {
     "data": {
      "text/plain": [
       "184"
      ]
     },
     "execution_count": 11,
     "metadata": {},
     "output_type": "execute_result"
    }
   ],
   "source": [
    "arr.__sizeof__()"
   ]
  },
  {
   "cell_type": "markdown",
   "metadata": {
    "hidden": true
   },
   "source": [
    "### ЗАВДАННЯ 1"
   ]
  },
  {
   "cell_type": "code",
   "execution_count": 12,
   "metadata": {
    "hidden": true
   },
   "outputs": [
    {
     "name": "stdout",
     "output_type": "stream",
     "text": [
      "[[0.96089362 0.76866678 0.61283022 0.03461065]\n",
      " [0.6300705  0.88919026 0.40396005 0.28822679]\n",
      " [0.21390991 0.84617461 0.85352028 0.11803396]] float64\n"
     ]
    }
   ],
   "source": [
    "### ЗАВДАННЯ 1.1: створити та проінспектувати масив 3х4 з ім'ям arr1_1, який містить числа з плавоючою точкою \n",
    "arr1_1 =np.random.rand(3,4)\n",
    "print(arr1_1,arr1_1.dtype)"
   ]
  },
  {
   "cell_type": "code",
   "execution_count": 13,
   "metadata": {
    "hidden": true
   },
   "outputs": [
    {
     "name": "stdout",
     "output_type": "stream",
     "text": [
      "[1 2 3 4 5]\n"
     ]
    }
   ],
   "source": [
    "### ЗАВДАННЯ 1.2: створити одномірний масив з 5 строкових елементів\n",
    "arr1_2 = np.array([1,2,3,4,5])\n",
    "print(arr1_2)"
   ]
  },
  {
   "cell_type": "code",
   "execution_count": 14,
   "metadata": {
    "hidden": true
   },
   "outputs": [
    {
     "name": "stdout",
     "output_type": "stream",
     "text": [
      "[[1. 1. 1. 1.]\n",
      " [1. 1. 1. 1.]\n",
      " [1. 1. 1. 1.]]\n"
     ]
    }
   ],
   "source": [
    "### ЗАВДАННЯ 1.3: створити одиничний масив 3х4 чисел з плаваючою точкою\n",
    "arr1_3 =np.ones((3,4))\n",
    "print(arr1_3)"
   ]
  },
  {
   "cell_type": "markdown",
   "metadata": {},
   "source": [
    "## 2. Перетворення форми та типу массивів"
   ]
  },
  {
   "cell_type": "markdown",
   "metadata": {
    "heading_collapsed": true
   },
   "source": [
    "### ПРИКЛАДИ"
   ]
  },
  {
   "cell_type": "code",
   "execution_count": 15,
   "metadata": {
    "hidden": true,
    "scrolled": true
   },
   "outputs": [
    {
     "name": "stdout",
     "output_type": "stream",
     "text": [
      "[0 1 2 3 4 5 6 7 8 9]\n"
     ]
    }
   ],
   "source": [
    "# створити 2-мірний float-масив (2х5) з лінійного int-списка \n",
    "spisok = list(range(0,10))\n",
    "arr = np.array(spisok)\n",
    "print(arr)"
   ]
  },
  {
   "cell_type": "code",
   "execution_count": 16,
   "metadata": {
    "hidden": true
   },
   "outputs": [
    {
     "name": "stdout",
     "output_type": "stream",
     "text": [
      "[[0 1 2 3 4]\n",
      " [5 6 7 8 9]]\n",
      "int32\n"
     ]
    }
   ],
   "source": [
    "#преретворити форму масива `reshape` \n",
    "arr = arr.reshape((2,5))\n",
    "print(arr)\n",
    "print(arr.dtype)"
   ]
  },
  {
   "cell_type": "code",
   "execution_count": 17,
   "metadata": {
    "hidden": true
   },
   "outputs": [
    {
     "name": "stdout",
     "output_type": "stream",
     "text": [
      "[[0. 1. 2. 3. 4.]\n",
      " [5. 6. 7. 8. 9.]]\n",
      "float64\n"
     ]
    }
   ],
   "source": [
    "# -- 3 перетворити тип масива `astype`\n",
    "arr = arr.astype('float64')\n",
    "print(arr)\n",
    "print(arr.dtype)"
   ]
  },
  {
   "cell_type": "code",
   "execution_count": 18,
   "metadata": {
    "hidden": true,
    "scrolled": true
   },
   "outputs": [
    {
     "name": "stdout",
     "output_type": "stream",
     "text": [
      "[0. 1. 2. 3. 4. 5. 6. 7. 8. 9.]\n"
     ]
    }
   ],
   "source": [
    "# 'вирівняти' 2-мірний масив\n",
    "arr = arr.flatten()\n",
    "print(arr)"
   ]
  },
  {
   "cell_type": "markdown",
   "metadata": {
    "heading_collapsed": true
   },
   "source": [
    "### ЗАВДАННЯ 2"
   ]
  },
  {
   "cell_type": "code",
   "execution_count": 19,
   "metadata": {
    "hidden": true
   },
   "outputs": [
    {
     "name": "stdout",
     "output_type": "stream",
     "text": [
      "[[[False False False]]\n",
      "\n",
      " [[False False False]]\n",
      "\n",
      " [[False False False]]]\n"
     ]
    }
   ],
   "source": [
    "### ЗАВДАННЯ 2.1: створити 3-мірний масив (3х1х3) логічного 'False'\n",
    "arr2_1 =np.full((3,1,3),False)\n",
    "\n",
    "print(arr2_1)"
   ]
  },
  {
   "cell_type": "code",
   "execution_count": 21,
   "metadata": {
    "hidden": true
   },
   "outputs": [
    {
     "name": "stdout",
     "output_type": "stream",
     "text": [
      "[[0 0 0]\n",
      " [0 0 0]\n",
      " [0 0 0]]\n"
     ]
    }
   ],
   "source": [
    "### ЗАВДАННЯ 2.2: перетворити масив arr2_1 в 2-мірний масив (3х3) типу int\n",
    "arr2_2 =arr2_1.reshape((3,3)).astype(\"int\")\n",
    "print(arr2_2)"
   ]
  },
  {
   "cell_type": "code",
   "execution_count": 22,
   "metadata": {
    "hidden": true
   },
   "outputs": [
    {
     "name": "stdout",
     "output_type": "stream",
     "text": [
      "[10 12 14 16 18 20]\n"
     ]
    }
   ],
   "source": [
    "### ЗАВДАННЯ 2.3: створити  2-мірний масив парних чисел в інтервалі 10-21\n",
    "arr2_3 =np.arange(10,21,2)\n",
    "print(arr2_3)"
   ]
  },
  {
   "cell_type": "markdown",
   "metadata": {
    "heading_collapsed": true
   },
   "source": [
    "## 3. Доступ до  елементів масива"
   ]
  },
  {
   "cell_type": "markdown",
   "metadata": {
    "heading_collapsed": true,
    "hidden": true
   },
   "source": [
    "### ПРИКЛАДИ"
   ]
  },
  {
   "cell_type": "code",
   "execution_count": null,
   "metadata": {
    "hidden": true
   },
   "outputs": [],
   "source": [
    "arr = np.array([10, 6, 7, 21, 44]) \n",
    "print(arr)\n",
    "\n",
    "# 1-й елемент \n",
    "print(arr[0])\n",
    "# 3-й елемент\n",
    "print(arr[2])\n",
    "# останній елемент\n",
    "print(arr[-1])"
   ]
  },
  {
   "cell_type": "code",
   "execution_count": null,
   "metadata": {
    "hidden": true
   },
   "outputs": [],
   "source": [
    "# створити 2-мірний масив з цілих чисел з інтервалу 10-50\n",
    "arr = np.random.randint(10, 50, (4,4))\n",
    "print(arr)"
   ]
  },
  {
   "cell_type": "code",
   "execution_count": null,
   "metadata": {
    "hidden": true
   },
   "outputs": [],
   "source": [
    "# отримати значення останнього елемента в 2 рядку\n",
    "el = arr[1, 2]\n",
    "print(el)"
   ]
  },
  {
   "cell_type": "code",
   "execution_count": null,
   "metadata": {
    "hidden": true
   },
   "outputs": [],
   "source": [
    "# отримати значення останнього рядка\n",
    "vect = arr[2]\n",
    "print(vect)"
   ]
  },
  {
   "cell_type": "code",
   "execution_count": null,
   "metadata": {
    "hidden": true
   },
   "outputs": [],
   "source": [
    "# отримати `зріз` з 1 по 2 рядок\n",
    "mat = arr[0:2]\n",
    "print(mat)"
   ]
  },
  {
   "cell_type": "code",
   "execution_count": null,
   "metadata": {
    "hidden": true
   },
   "outputs": [],
   "source": [
    "# вилучити 2 та 3 стовбчики `arr`\n",
    "mat = arr[0:4, 1:3]\n",
    "print(mat)"
   ]
  },
  {
   "cell_type": "code",
   "execution_count": null,
   "metadata": {
    "hidden": true
   },
   "outputs": [],
   "source": [
    "# вилучити непарні рядки `arr`\n",
    "mat = arr[0:4:2]\n",
    "print(mat)"
   ]
  },
  {
   "cell_type": "code",
   "execution_count": null,
   "metadata": {
    "hidden": true
   },
   "outputs": [],
   "source": [
    "# фільтрувати елементи масива за умовою\n",
    "els = arr[arr > 20]\n",
    "print(els)"
   ]
  },
  {
   "cell_type": "markdown",
   "metadata": {
    "heading_collapsed": true,
    "hidden": true
   },
   "source": [
    "### ЗАВДАННЯ 3"
   ]
  },
  {
   "cell_type": "code",
   "execution_count": 23,
   "metadata": {
    "hidden": true
   },
   "outputs": [
    {
     "data": {
      "text/plain": [
       "array([[78, 50, 16, 37, 51],\n",
       "       [77, 81, 34, 57, 85],\n",
       "       [54, 24, 77, 64, 46],\n",
       "       [57, 67, 84, 41, 89]])"
      ]
     },
     "execution_count": 23,
     "metadata": {},
     "output_type": "execute_result"
    }
   ],
   "source": [
    "### ЗАВДАННЯ 3.1: створити масив 4х5 нормально розподілений випадкових чисел 3 інтервалу [10 - 100]\n",
    "arr3_1 =np.random.randint(10,100,(4,5))\n",
    "arr3_1"
   ]
  },
  {
   "cell_type": "code",
   "execution_count": 24,
   "metadata": {
    "hidden": true
   },
   "outputs": [
    {
     "name": "stdout",
     "output_type": "stream",
     "text": [
      "34\n"
     ]
    }
   ],
   "source": [
    "### ЗАВДАННЯ 3.2:  вивести 3-елемент в 2-му рядку\n",
    "el3_2 = arr3_1[1,2]\n",
    "print(el3_2)"
   ]
  },
  {
   "cell_type": "code",
   "execution_count": 25,
   "metadata": {
    "hidden": true
   },
   "outputs": [
    {
     "name": "stdout",
     "output_type": "stream",
     "text": [
      "[77 81 34 57 85]\n"
     ]
    }
   ],
   "source": [
    "### ЗАВДАННЯ 3.3:  вивести 2-й рядок масива `arr3_1`\n",
    "vect3_3 =arr3_1[1]\n",
    "print(vect3_3)"
   ]
  },
  {
   "cell_type": "code",
   "execution_count": 26,
   "metadata": {
    "hidden": true
   },
   "outputs": [
    {
     "name": "stdout",
     "output_type": "stream",
     "text": [
      "[16 34 77 84]\n"
     ]
    }
   ],
   "source": [
    "### ЗАВДАННЯ 3.4:  вивести 3 колонку масива `arr3_1`\n",
    "vect3_4 =arr3_1[0:4,2]\n",
    "print(vect3_4)"
   ]
  },
  {
   "cell_type": "code",
   "execution_count": 27,
   "metadata": {
    "hidden": true
   },
   "outputs": [
    {
     "name": "stdout",
     "output_type": "stream",
     "text": [
      "[[81 34]\n",
      " [24 77]]\n"
     ]
    }
   ],
   "source": [
    "### ЗАВДАННЯ 3.5: вивести матрицю  з 2 та 3 рядка та 2 та 3 колонки масива `arr3_1`\n",
    "mat3_5 = arr3_1[1:3,1:3]\n",
    "print(mat3_5)"
   ]
  },
  {
   "cell_type": "markdown",
   "metadata": {
    "heading_collapsed": true
   },
   "source": [
    "## 4. Матричні компоненти масива"
   ]
  },
  {
   "cell_type": "markdown",
   "metadata": {
    "heading_collapsed": true,
    "hidden": true
   },
   "source": [
    "### ПРИКЛАДИ"
   ]
  },
  {
   "cell_type": "code",
   "execution_count": 29,
   "metadata": {
    "hidden": true
   },
   "outputs": [
    {
     "name": "stdout",
     "output_type": "stream",
     "text": [
      "[[1. 0. 0.]\n",
      " [0. 1. 0.]\n",
      " [0. 0. 1.]]\n"
     ]
    }
   ],
   "source": [
    "# створити одиничну матрицю розміру 3х3\n",
    "mat = np.eye(3)\n",
    "print(mat)"
   ]
  },
  {
   "cell_type": "code",
   "execution_count": null,
   "metadata": {
    "hidden": true
   },
   "outputs": [],
   "source": [
    "# створити матрицю із заданою диагоналлю\n",
    "mat = np.diag([1,2,3,4,5])\n",
    "print(mat)"
   ]
  },
  {
   "cell_type": "code",
   "execution_count": null,
   "metadata": {
    "hidden": true
   },
   "outputs": [],
   "source": [
    "# вилучити головну діагональ матриці `diag`\n",
    "mat = np.random.rand(5,5)\n",
    "print(mat, end=\"\\n...\\n\")\n",
    "print(np.diag(mat))"
   ]
  },
  {
   "cell_type": "code",
   "execution_count": null,
   "metadata": {
    "hidden": true
   },
   "outputs": [],
   "source": [
    "# транспонувати матрицю `mat` (https://ru.wikipedia.org/wiki/Транспонированная_матрица)\n",
    "mT = np.transpose(mat)\n",
    "print(mT)"
   ]
  },
  {
   "cell_type": "code",
   "execution_count": null,
   "metadata": {
    "hidden": true
   },
   "outputs": [],
   "source": [
    "# отримати детермінант матриці `det` (https://ru.wikipedia.org/wiki/Определитель)\n",
    "print(np.linalg.det(mat))"
   ]
  },
  {
   "cell_type": "code",
   "execution_count": null,
   "metadata": {
    "hidden": true
   },
   "outputs": [],
   "source": [
    "# отримати зворотню матриці `det` (https://ru.wikipedia.org/wiki/Обратная_матрица)\n",
    "invM = np.linalg.inv(mat)\n",
    "print(invM)"
   ]
  },
  {
   "cell_type": "markdown",
   "metadata": {
    "heading_collapsed": true,
    "hidden": true
   },
   "source": [
    "### ЗАВАДАННЯ 4"
   ]
  },
  {
   "cell_type": "code",
   "execution_count": 33,
   "metadata": {
    "hidden": true
   },
   "outputs": [
    {
     "name": "stdout",
     "output_type": "stream",
     "text": [
      "[[132 199 167 144 196 130]\n",
      " [119 133 103 121 178 182]\n",
      " [139 120 116 117 189 127]\n",
      " [112 129 131 135 120 130]\n",
      " [178 127 142 115 184 196]\n",
      " [140 186 132 109 112 167]]\n"
     ]
    }
   ],
   "source": [
    "# ЗАВДАННЯ 4.1: створити квадратну матрицю з 36 рівномірно розподілених цілих \n",
    "# елементів з інтервалу 100 - 200\n",
    "mat4_1 = np.random.randint(100, 200, (6,6))\n",
    "print(mat4_1)"
   ]
  },
  {
   "cell_type": "code",
   "execution_count": 34,
   "metadata": {
    "hidden": true
   },
   "outputs": [
    {
     "name": "stdout",
     "output_type": "stream",
     "text": [
      "[132 133 116 135 184 167]\n"
     ]
    }
   ],
   "source": [
    "# ЗАВДАННЯ 4.2: вивести головну діагональ матниці `mat4_1`\n",
    "diag4_2 =np.diag(mat4_1)\n",
    "print(diag4_2)"
   ]
  },
  {
   "cell_type": "code",
   "execution_count": 36,
   "metadata": {
    "hidden": true
   },
   "outputs": [
    {
     "data": {
      "text/plain": [
       "array([[-0.01830458, -0.01520988,  0.0307216 , -0.00029044, -0.00642303,\n",
       "         0.01522649],\n",
       "       [ 0.00095727,  0.00169365,  0.00683763, -0.00888256, -0.0117478 ,\n",
       "         0.01291158],\n",
       "       [ 0.02344729, -0.00710636, -0.03566789,  0.00389066,  0.02705425,\n",
       "        -0.018164  ],\n",
       "       [-0.01704072,  0.00178878,  0.02032371,  0.02100982, -0.01989213,\n",
       "         0.00285153],\n",
       "       [ 0.00800457,  0.005597  ,  0.00010612, -0.00923111,  0.00205109,\n",
       "        -0.0076329 ],\n",
       "       [ 0.00149985,  0.01156026, -0.01851395, -0.0004607 ,  0.00869266,\n",
       "        -0.0035422 ]])"
      ]
     },
     "execution_count": 36,
     "metadata": {},
     "output_type": "execute_result"
    }
   ],
   "source": [
    "# ЗАВДАННЯ 4.4: вирахувати зворотню до 'mat4_1' матрицю \n",
    "inv4_4 =np.linalg.inv(mat4_1)\n",
    "inv4_4"
   ]
  },
  {
   "cell_type": "code",
   "execution_count": null,
   "metadata": {
    "hidden": true
   },
   "outputs": [],
   "source": [
    "# ЗАВДАННЯ 4.4: вирахувати зворотню до 'mat4_1' матрицю \n",
    "inv4_4 = ..."
   ]
  },
  {
   "cell_type": "markdown",
   "metadata": {
    "heading_collapsed": true
   },
   "source": [
    "## 5. Операції над масивами"
   ]
  },
  {
   "cell_type": "markdown",
   "metadata": {
    "heading_collapsed": true,
    "hidden": true
   },
   "source": [
    "### ПРИКЛАДИ"
   ]
  },
  {
   "cell_type": "code",
   "execution_count": null,
   "metadata": {
    "hidden": true
   },
   "outputs": [],
   "source": [
    "# задати вектор з 10 елементів\n",
    "vect = np.array([1, 3, 2, -3, 5, 0])"
   ]
  },
  {
   "cell_type": "code",
   "execution_count": null,
   "metadata": {
    "hidden": true
   },
   "outputs": [],
   "source": [
    "# вирахувати суму елеметнів\n",
    "s = np.sum(vect)\n",
    "\n",
    "# знайти мінімальний ел-т\n",
    "m = np.min(vect)\n",
    "\n",
    "# відсортувати вектор по зростанню\n",
    "vs = np.sort(vect)\n",
    "\n",
    "# знайти середнє значення\n",
    "mid = np.average(vect)\n",
    "..."
   ]
  },
  {
   "cell_type": "code",
   "execution_count": null,
   "metadata": {
    "hidden": true
   },
   "outputs": [],
   "source": [
    "# матриця 3х4 сконструйована різними методами\n",
    "mat = np.array([np.arange(1,4), [-2, 4, 6], np.full(3,77)])\n",
    "print(mat)"
   ]
  },
  {
   "cell_type": "code",
   "execution_count": null,
   "metadata": {
    "hidden": true
   },
   "outputs": [],
   "source": [
    "# сума по колонкам `axis=0`\n",
    "s = np.sum(mat, axis=0)\n",
    "print(s)"
   ]
  },
  {
   "cell_type": "code",
   "execution_count": null,
   "metadata": {
    "hidden": true
   },
   "outputs": [],
   "source": [
    "# мінімум по рядкам\n",
    "m = np.min(mat, axis=1)\n",
    "print(m)"
   ]
  },
  {
   "cell_type": "code",
   "execution_count": null,
   "metadata": {
    "hidden": true
   },
   "outputs": [],
   "source": [
    "# збільшити ел-ти масива вдвічі\n",
    "v2 = mat * 2\n",
    "print(v2)"
   ]
  },
  {
   "cell_type": "code",
   "execution_count": null,
   "metadata": {
    "hidden": true
   },
   "outputs": [],
   "source": [
    "M = np.array([[1,2,3],[4,-3,6],[7,8,0]])\n",
    "N = np.array([[1,1,1],[2,2,2],[3,3,3]])\n",
    "print(M, N, sep=\"\\n\")"
   ]
  },
  {
   "cell_type": "code",
   "execution_count": null,
   "metadata": {
    "hidden": true
   },
   "outputs": [],
   "source": [
    "# перемножити елементи матриць M, N\n",
    "K = M * N\n",
    "print(K)\n",
    "# або ->\n",
    "K = np.multiply(N, M)\n",
    "print(K)"
   ]
  },
  {
   "cell_type": "code",
   "execution_count": null,
   "metadata": {
    "hidden": true
   },
   "outputs": [],
   "source": [
    "# поелементний поділ\n",
    "K = N / M\n",
    "print(K)"
   ]
  },
  {
   "cell_type": "code",
   "execution_count": null,
   "metadata": {
    "hidden": true
   },
   "outputs": [],
   "source": [
    "# скалярне множення матриць (https://ru.wikipedia.org/wiki/Умножение_матриц)\n",
    "prod = np.dot(N, M)\n",
    "print(prod)"
   ]
  },
  {
   "cell_type": "code",
   "execution_count": null,
   "metadata": {
    "hidden": true
   },
   "outputs": [],
   "source": [
    "# возвести матрицю `prod` в ступінь 3\n",
    "pmat = np.linalg.matrix_power(prod, 3)\n",
    "print(pmat)"
   ]
  },
  {
   "cell_type": "code",
   "execution_count": null,
   "metadata": {
    "hidden": true
   },
   "outputs": [],
   "source": [
    "# додати елементи до 1-вимірного масива\n",
    "mat = np.array([1,2,3])\n",
    "mat = np.append(mat, [5,6,7,8])\n",
    "print(mat)"
   ]
  },
  {
   "cell_type": "code",
   "execution_count": null,
   "metadata": {
    "hidden": true
   },
   "outputs": [],
   "source": [
    "# вставити елемент `4` в масив після 3-го елемента\n",
    "mat = np.insert(mat, 3, 4)\n",
    "print(mat)"
   ]
  },
  {
   "cell_type": "code",
   "execution_count": null,
   "metadata": {
    "hidden": true
   },
   "outputs": [],
   "source": [
    "# видалити елемент з індексом 6\n",
    "mat = np.delete(mat, 6)\n",
    "print(mat)"
   ]
  },
  {
   "cell_type": "code",
   "execution_count": null,
   "metadata": {
    "hidden": true
   },
   "outputs": [],
   "source": [
    "#  копіювання та присвоювання масивів\n",
    "M = np.random.randint(1, 10, 5 )\n",
    "print(M)\n",
    "\n",
    "# присвоїти масив `M` в `N`\n",
    "N = M\n",
    "print(N)\n",
    "print(id(M), id(N))\n",
    "\n",
    "# копіювати масив `M` в `K`\n",
    "K = np.copy(M)\n",
    "print(K)\n",
    "print(id(M), id(K))"
   ]
  },
  {
   "cell_type": "code",
   "execution_count": null,
   "metadata": {
    "hidden": true
   },
   "outputs": [],
   "source": [
    "# конкатенація масивів по рядкам\n",
    "arr1 = np.array([[1,2,3,4], [1,2,3,4]])\n",
    "arr2 = np.array([[5,6,7,8], [5,6,7,8]])\n",
    "arr3 = np.concatenate((arr1, arr2), axis=0)\n",
    "print(arr3)\n",
    "# по колонкам `axis = 1`\n",
    "arr4 = np.concatenate((arr1, arr2), axis=1)\n",
    "print(arr4)"
   ]
  },
  {
   "cell_type": "markdown",
   "metadata": {
    "heading_collapsed": true,
    "hidden": true
   },
   "source": [
    "### ЗАВДАННЯ 5"
   ]
  },
  {
   "cell_type": "code",
   "execution_count": 37,
   "metadata": {
    "hidden": true
   },
   "outputs": [
    {
     "name": "stdout",
     "output_type": "stream",
     "text": [
      "[1.83267247 2.53578597 1.51503844]\n"
     ]
    }
   ],
   "source": [
    "# ЗАВДАННЯ 5.1: просумувати по рядкам масив випадкових чисел розмірностю 3х4\n",
    "mat5_1 = np.random.rand(3,4)\n",
    "sum_mat5_1 = np.sum(mat5_1,axis=1)\n",
    "print(sum_mat5_1)"
   ]
  },
  {
   "cell_type": "code",
   "execution_count": 38,
   "metadata": {
    "hidden": true
   },
   "outputs": [
    {
     "name": "stdout",
     "output_type": "stream",
     "text": [
      "1.5150384362174432\n"
     ]
    }
   ],
   "source": [
    "# ЗАВДАННЯ 5.2: знайти мінімальний елемент матриці `sum_mat5_1`\n",
    "min_mat5_1 = np.min(sum_mat5_1)\n",
    "print(min_mat5_1)"
   ]
  },
  {
   "cell_type": "code",
   "execution_count": 39,
   "metadata": {
    "hidden": true
   },
   "outputs": [
    {
     "name": "stdout",
     "output_type": "stream",
     "text": [
      "[[100.28640955 100.7102598  100.32951578 100.50648735]\n",
      " [100.75186467 100.94614002 100.4123874  100.42539388]\n",
      " [100.30133546 100.38043626 100.08641476 100.74685195]]\n"
     ]
    }
   ],
   "source": [
    "# ЗАВДАННЯ 5.3: створити масив додавши до елементів `mat5_1`  число 100\n",
    "mat5_3 = mat5_1+100\n",
    "print(mat5_3)"
   ]
  },
  {
   "cell_type": "code",
   "execution_count": 40,
   "metadata": {
    "hidden": true
   },
   "outputs": [
    {
     "name": "stdout",
     "output_type": "stream",
     "text": [
      "[134.78040753 204.81508917  83.32381414 168.48540193]\n"
     ]
    }
   ],
   "source": [
    "# ЗАВДАННЯ 5.4: помножити матрицю `mat5_1` на головну діагональ матриці `mat5_3`\n",
    "mat5_4 = np.dot(np.diag(mat5_3),mat5_1)\n",
    "print(mat5_4)"
   ]
  },
  {
   "cell_type": "code",
   "execution_count": 41,
   "metadata": {
    "hidden": true
   },
   "outputs": [
    {
     "data": {
      "text/plain": [
       "4"
      ]
     },
     "execution_count": 41,
     "metadata": {},
     "output_type": "execute_result"
    }
   ],
   "source": [
    "# ЗАВДАННЯ 5.5: додати справа до матриці `mat5_3` матрицю `mat5_4` \n",
    "# вивести ранг отриманої матриці\n",
    "mat5_5 = np.row_stack((mat5_3, mat5_4))\n",
    "np.linalg.matrix_rank(mat5_5)"
   ]
  }
 ],
 "metadata": {
  "kernelspec": {
   "display_name": "Python 3",
   "language": "python",
   "name": "python3"
  },
  "language_info": {
   "codemirror_mode": {
    "name": "ipython",
    "version": 3
   },
   "file_extension": ".py",
   "mimetype": "text/x-python",
   "name": "python",
   "nbconvert_exporter": "python",
   "pygments_lexer": "ipython3",
   "version": "3.8.5"
  },
  "varInspector": {
   "cols": {
    "lenName": 16,
    "lenType": 16,
    "lenVar": 40
   },
   "kernels_config": {
    "python": {
     "delete_cmd_postfix": "",
     "delete_cmd_prefix": "del ",
     "library": "var_list.py",
     "varRefreshCmd": "print(var_dic_list())"
    },
    "r": {
     "delete_cmd_postfix": ") ",
     "delete_cmd_prefix": "rm(",
     "library": "var_list.r",
     "varRefreshCmd": "cat(var_dic_list()) "
    }
   },
   "types_to_exclude": [
    "module",
    "function",
    "builtin_function_or_method",
    "instance",
    "_Feature"
   ],
   "window_display": false
  }
 },
 "nbformat": 4,
 "nbformat_minor": 5
}
